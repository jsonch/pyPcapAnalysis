{
  "cells": [
    {
      "cell_type": "markdown",
      "source": [
        "### Example\n",
        "\n",
        "This example shows how to analyze a pcap to make a simple graph: the aggregate rate of TCP and UDP packets in a trace. \n",
        "\n",
        "You can run the code in the notebook, or copy/paste it to a python script."
      ],
      "metadata": {
        "nteract": {
          "transient": {
            "deleting": false
          }
        }
      }
    },
    {
      "cell_type": "code",
      "source": [
        "import dpkt\n",
        "import binascii\n",
        "import seaborn as sns\n",
        "import pandas as pd\n",
        "from matplotlib import pyplot as plt"
      ],
      "outputs": [],
      "execution_count": 10,
      "metadata": {
        "collapsed": true,
        "jupyter": {
          "source_hidden": false,
          "outputs_hidden": false
        },
        "nteract": {
          "transient": {
            "deleting": false
          }
        },
        "execution": {
          "iopub.status.busy": "2021-02-05T22:07:25.523Z",
          "iopub.execute_input": "2021-02-05T22:07:25.526Z",
          "iopub.status.idle": "2021-02-05T22:07:25.531Z",
          "shell.execute_reply": "2021-02-05T22:07:25.533Z"
        }
      }
    },
    {
      "cell_type": "markdown",
      "source": [
        "#### Parsing pcaps\n",
        "First, open a PCAP file and parse its contents with dpkt. Its simple, but here are a few tutorials for reference:\n",
        "\n",
        "https://jon.oberheide.org/blog/2008/10/15/dpkt-tutorial-2-parsing-a-pcap-file/\n",
        "\n",
        "https://dpkt.readthedocs.io/en/latest/examples.html"
      ],
      "metadata": {
        "nteract": {
          "transient": {
            "deleting": false
          }
        }
      }
    },
    {
      "cell_type": "code",
      "source": [
        "pcap_fn = \"example.pcap\"\n",
        "pcap = dpkt.pcap.Reader(open(pcap_fn, \"rb\"))\n",
        "\n",
        "parsed_recs = [] # the data we're parsing out of the pcaps\n",
        "for (ts, buf) in pcap:\n",
        "  # 'buf' is a raw buffer of packets, we cast to an ethernet object.\n",
        "  eth = dpkt.ethernet.Ethernet(buf)\n",
        "  # 'eth' has local variables corresponding to ethernet header fields, e.g., source, dest, etc. \n",
        "  if (isinstance(eth.data, dpkt.ip.IP)):\n",
        "    ip = eth.data\n",
        "    if (isinstance(ip.data, dpkt.tcp.TCP)):\n",
        "      parsed_recs.append(\n",
        "        {\n",
        "          \"protocol\":\"TCP\",\n",
        "          \"time\":ts,\n",
        "          \"bytes\":ip.len\n",
        "        }\n",
        "      )\n",
        "    elif (isinstance(ip.data, dpkt.udp.UDP)):\n",
        "      parsed_recs.append(\n",
        "        {\n",
        "          \"protocol\":\"UDP\",\n",
        "          \"time\":ts,\n",
        "          \"bytes\":ip.len\n",
        "        }\n",
        "      )\n",
        "print (\"parsed %s packets\"%len(parsed_recs))          \n",
        "  \n"
      ],
      "outputs": [
        {
          "output_type": "stream",
          "name": "stdout",
          "text": [
            "parsed 99197 packets\n"
          ]
        }
      ],
      "execution_count": 5,
      "metadata": {
        "collapsed": true,
        "jupyter": {
          "source_hidden": false,
          "outputs_hidden": false
        },
        "nteract": {
          "transient": {
            "deleting": false
          }
        },
        "execution": {
          "iopub.status.busy": "2021-02-05T22:00:05.319Z",
          "iopub.execute_input": "2021-02-05T22:00:05.321Z",
          "iopub.status.idle": "2021-02-05T22:00:06.724Z",
          "shell.execute_reply": "2021-02-05T22:00:06.726Z"
        }
      }
    },
    {
      "cell_type": "markdown",
      "source": [
        "Next, convert the parsed data into a pandas dataframe. Pandas has a ton of built-in methods for aggregating data and computing statistics, and easy ways to manipulate the data for when we want to calculate things with our own methods. "
      ],
      "metadata": {
        "nteract": {
          "transient": {
            "deleting": false
          }
        }
      }
    },
    {
      "cell_type": "code",
      "source": [
        "packet_df = pd.DataFrame(parsed_recs)\n",
        "# convert time to relative time since start of trace.\n",
        "packet_df[\"time_since_start\"] = pd.to_datetime(packet_df[\"time\"], unit='s')\n",
        "packet_df['time_since_start'] = packet_df['time_since_start'] - min(packet_df['time_since_start']) \n",
        "print (packet_df)\n",
        "\n"
      ],
      "outputs": [
        {
          "output_type": "stream",
          "name": "stdout",
          "text": [
            "      protocol          time  bytes          time_since_start\n",
            "0          UDP  1.361916e+09   1154           0 days 00:00:00\n",
            "1          UDP  1.361916e+09   1154 0 days 00:00:00.000050068\n",
            "2          UDP  1.361916e+09     80 0 days 00:00:00.000050068\n",
            "3          TCP  1.361916e+09     40 0 days 00:00:00.000322104\n",
            "4          UDP  1.361916e+09    153 0 days 00:00:00.001160145\n",
            "...        ...           ...    ...                       ...\n",
            "99192      TCP  1.361916e+09     52 0 days 00:00:34.392866135\n",
            "99193      TCP  1.361916e+09   1500 0 days 00:00:34.392924071\n",
            "99194      TCP  1.361916e+09     52 0 days 00:00:34.392992020\n",
            "99195      TCP  1.361916e+09   1320 0 days 00:00:34.393042088\n",
            "99196      TCP  1.361916e+09     52 0 days 00:00:34.393100024\n",
            "\n",
            "[99197 rows x 4 columns]\n"
          ]
        }
      ],
      "execution_count": 144,
      "metadata": {
        "collapsed": true,
        "jupyter": {
          "source_hidden": false,
          "outputs_hidden": false
        },
        "nteract": {
          "transient": {
            "deleting": false
          }
        },
        "execution": {
          "iopub.status.busy": "2021-02-05T23:26:51.913Z",
          "iopub.execute_input": "2021-02-05T23:26:51.917Z",
          "iopub.status.idle": "2021-02-05T23:26:52.508Z",
          "shell.execute_reply": "2021-02-05T23:26:52.520Z"
        }
      }
    },
    {
      "cell_type": "code",
      "source": [
        "# aggregate the data by second and compute the total number of bytes.\n",
        "agg_df = packet_df.groupby([pd.Grouper(key=\"time_since_start\", freq='1S'), 'protocol']).sum().reset_index()\n",
        "# add a column to the aggregate data that is megabits per second.\n",
        "agg_df['Mb/s'] = agg_df.bytes * 8 / 1000000\n",
        "agg_df['time_since_start'] = agg_df['time_since_start'].dt.total_seconds()\n",
        "print (agg_df)"
      ],
      "outputs": [
        {
          "output_type": "stream",
          "name": "stdout",
          "text": [
            "    time_since_start protocol          time    bytes       Mb/s\n",
            "0                0.0      TCP  3.054778e+12   757694   6.061552\n",
            "1                0.0      UDP  7.245394e+11   128933   1.031464\n",
            "2                1.0      TCP  2.367010e+12   523747   4.189976\n",
            "3                1.0      UDP  7.027487e+11   109452   0.875616\n",
            "4                2.0      TCP  3.269961e+12   888510   7.108080\n",
            "..               ...      ...           ...      ...        ...\n",
            "65              32.0      UDP  7.272632e+11   116602   0.932816\n",
            "66              33.0      TCP  3.604992e+12  1477889  11.823112\n",
            "67              33.0      UDP  7.218156e+11   123753   0.990024\n",
            "68              34.0      TCP  1.774577e+12   763175   6.105400\n",
            "69              34.0      UDP  3.254980e+11    51779   0.414232\n",
            "\n",
            "[70 rows x 5 columns]\n"
          ]
        }
      ],
      "execution_count": 145,
      "metadata": {
        "collapsed": true,
        "jupyter": {
          "source_hidden": false,
          "outputs_hidden": false
        },
        "nteract": {
          "transient": {
            "deleting": false
          }
        },
        "execution": {
          "iopub.status.busy": "2021-02-05T23:27:00.656Z",
          "iopub.execute_input": "2021-02-05T23:27:00.660Z",
          "iopub.status.idle": "2021-02-05T23:27:00.671Z",
          "shell.execute_reply": "2021-02-05T23:27:00.680Z"
        }
      }
    },
    {
      "cell_type": "markdown",
      "source": [
        "Finally, plot the data with seaborn, a plotting library built around pandas. It has a lot of very powerful plotting functions. This uses lineplot: https://seaborn.pydata.org/generated/seaborn.lineplot.html"
      ],
      "metadata": {
        "nteract": {
          "transient": {
            "deleting": false
          }
        }
      }
    },
    {
      "cell_type": "code",
      "source": [
        "sns.lineplot(data=agg_df, x=\"time_since_start\", y=\"Mb/s\", hue=\"protocol\") \n",
        "plt.show()"
      ],
      "outputs": [
        {
          "output_type": "display_data",
          "data": {
            "text/plain": "<Figure size 432x288 with 1 Axes>",
            "image/png": "[encoded data removed]"
          },
          "metadata": {
            "needs_background": "light"
          }
        }
      ],
      "execution_count": 146,
      "metadata": {
        "collapsed": true,
        "jupyter": {
          "source_hidden": false,
          "outputs_hidden": false
        },
        "nteract": {
          "transient": {
            "deleting": false
          }
        },
        "execution": {
          "iopub.status.busy": "2021-02-05T23:27:04.141Z",
          "iopub.execute_input": "2021-02-05T23:27:04.145Z",
          "iopub.status.idle": "2021-02-05T23:27:04.292Z",
          "shell.execute_reply": "2021-02-05T23:27:04.295Z"
        }
      }
    },
    {
      "cell_type": "code",
      "source": [],
      "outputs": [],
      "execution_count": null,
      "metadata": {
        "collapsed": true,
        "jupyter": {
          "source_hidden": false,
          "outputs_hidden": false
        },
        "nteract": {
          "transient": {
            "deleting": false
          }
        }
      }
    }
  ],
  "metadata": {
    "kernel_info": {
      "name": "python3"
    },
    "language_info": {
      "name": "python",
      "version": "3.7.6",
      "mimetype": "text/x-python",
      "codemirror_mode": {
        "name": "ipython",
        "version": 3
      },
      "pygments_lexer": "ipython3",
      "nbconvert_exporter": "python",
      "file_extension": ".py"
    },
    "kernelspec": {
      "argv": [
        "/Users/jsonch/opt/anaconda3/bin/python3",
        "-m",
        "ipykernel_launcher",
        "-f",
        "{connection_file}"
      ],
      "display_name": "Python 3",
      "language": "python",
      "name": "python3"
    },
    "nteract": {
      "version": "0.28.0"
    }
  },
  "nbformat": 4,
  "nbformat_minor": 0
}